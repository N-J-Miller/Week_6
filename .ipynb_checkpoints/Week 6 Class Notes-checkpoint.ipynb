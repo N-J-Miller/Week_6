{
 "cells": [
  {
   "cell_type": "markdown",
   "id": "664bcefc",
   "metadata": {},
   "source": [
    "# Warm-Up"
   ]
  },
  {
   "cell_type": "code",
   "execution_count": 2,
   "id": "07710052",
   "metadata": {},
   "outputs": [],
   "source": [
    "#Worked on Intro to DataViz plots"
   ]
  },
  {
   "cell_type": "markdown",
   "id": "22fcb201",
   "metadata": {},
   "source": [
    "# New Class Requirements"
   ]
  },
  {
   "cell_type": "markdown",
   "id": "c1f593cb",
   "metadata": {},
   "source": [
    "* You need to have 70% or higher on those assignments\n",
    "* Going forward you must ALSO have an average of 70% or higher on your in-class activities at each checkoint (next one in 6 weeks)\n",
    "* If your homework is more than two days late (after Friday) you will now begin to lose points (1 pt a day)\n",
    "* Make sure you are completing the DataCamp and including screenshots of your completed exercises when required.\n"
   ]
  },
  {
   "cell_type": "markdown",
   "id": "cc056c4f",
   "metadata": {},
   "source": [
    "# New Emphasis on Homework Clarity"
   ]
  },
  {
   "cell_type": "markdown",
   "id": "536d2c31",
   "metadata": {},
   "source": [
    "* Start putting more comments in your code\n",
    "* Make sure questions are clearly labeled with Markdown code"
   ]
  },
  {
   "cell_type": "markdown",
   "id": "4936de6b",
   "metadata": {},
   "source": [
    "Mentor Francesca Ortegren is available most evenings"
   ]
  },
  {
   "cell_type": "markdown",
   "id": "20b00f0d",
   "metadata": {},
   "source": [
    "## SVG format is best for embedding"
   ]
  },
  {
   "cell_type": "markdown",
   "id": "021753d5",
   "metadata": {},
   "source": [
    "# Databases"
   ]
  },
  {
   "cell_type": "markdown",
   "id": "c33662c5",
   "metadata": {},
   "source": [
    "Primary Key vs. Foreign Key"
   ]
  },
  {
   "cell_type": "code",
   "execution_count": null,
   "id": "1c863370",
   "metadata": {},
   "outputs": [],
   "source": [
    "#14596 rows in table\n"
   ]
  }
 ],
 "metadata": {
  "kernelspec": {
   "display_name": "Python 3 (ipykernel)",
   "language": "python",
   "name": "python3"
  },
  "language_info": {
   "codemirror_mode": {
    "name": "ipython",
    "version": 3
   },
   "file_extension": ".py",
   "mimetype": "text/x-python",
   "name": "python",
   "nbconvert_exporter": "python",
   "pygments_lexer": "ipython3",
   "version": "3.9.7"
  }
 },
 "nbformat": 4,
 "nbformat_minor": 5
}
