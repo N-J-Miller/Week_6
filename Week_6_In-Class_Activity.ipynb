{
 "cells": [
  {
   "cell_type": "code",
   "execution_count": 2,
   "id": "667cac89",
   "metadata": {},
   "outputs": [],
   "source": [
    "# Importing modules\n",
    "\n",
    "import pandas as pd\n",
    "import numpy as np\n",
    "import matplotlib.pyplot as plt\n"
   ]
  },
  {
   "cell_type": "code",
   "execution_count": 3,
   "id": "6e5b4e35",
   "metadata": {},
   "outputs": [
    {
     "data": {
      "text/html": [
       "<div>\n",
       "<style scoped>\n",
       "    .dataframe tbody tr th:only-of-type {\n",
       "        vertical-align: middle;\n",
       "    }\n",
       "\n",
       "    .dataframe tbody tr th {\n",
       "        vertical-align: top;\n",
       "    }\n",
       "\n",
       "    .dataframe thead th {\n",
       "        text-align: right;\n",
       "    }\n",
       "</style>\n",
       "<table border=\"1\" class=\"dataframe\">\n",
       "  <thead>\n",
       "    <tr style=\"text-align: right;\">\n",
       "      <th></th>\n",
       "      <th>Show Number</th>\n",
       "      <th>Air Date</th>\n",
       "      <th>Round</th>\n",
       "      <th>Category</th>\n",
       "      <th>Value</th>\n",
       "      <th>Question</th>\n",
       "      <th>Answer</th>\n",
       "    </tr>\n",
       "  </thead>\n",
       "  <tbody>\n",
       "    <tr>\n",
       "      <th>0</th>\n",
       "      <td>4680</td>\n",
       "      <td>12/31/2004</td>\n",
       "      <td>Jeopardy!</td>\n",
       "      <td>HISTORY</td>\n",
       "      <td>$200</td>\n",
       "      <td>For the last 8 years of his life, Galileo was ...</td>\n",
       "      <td>Copernicus</td>\n",
       "    </tr>\n",
       "    <tr>\n",
       "      <th>1</th>\n",
       "      <td>4680</td>\n",
       "      <td>12/31/2004</td>\n",
       "      <td>Jeopardy!</td>\n",
       "      <td>ESPN's TOP 10 ALL-TIME ATHLETES</td>\n",
       "      <td>$200</td>\n",
       "      <td>No. 2: 1912 Olympian; football star at Carlisl...</td>\n",
       "      <td>Jim Thorpe</td>\n",
       "    </tr>\n",
       "    <tr>\n",
       "      <th>2</th>\n",
       "      <td>4680</td>\n",
       "      <td>12/31/2004</td>\n",
       "      <td>Jeopardy!</td>\n",
       "      <td>EVERYBODY TALKS ABOUT IT...</td>\n",
       "      <td>$200</td>\n",
       "      <td>The city of Yuma in this state has a record av...</td>\n",
       "      <td>Arizona</td>\n",
       "    </tr>\n",
       "    <tr>\n",
       "      <th>3</th>\n",
       "      <td>4680</td>\n",
       "      <td>12/31/2004</td>\n",
       "      <td>Jeopardy!</td>\n",
       "      <td>THE COMPANY LINE</td>\n",
       "      <td>$200</td>\n",
       "      <td>In 1963, live on \"The Art Linkletter Show\", th...</td>\n",
       "      <td>McDonald's</td>\n",
       "    </tr>\n",
       "    <tr>\n",
       "      <th>4</th>\n",
       "      <td>4680</td>\n",
       "      <td>12/31/2004</td>\n",
       "      <td>Jeopardy!</td>\n",
       "      <td>EPITAPHS &amp; TRIBUTES</td>\n",
       "      <td>$200</td>\n",
       "      <td>Signer of the Dec. of Indep., framer of the Co...</td>\n",
       "      <td>John Adams</td>\n",
       "    </tr>\n",
       "    <tr>\n",
       "      <th>...</th>\n",
       "      <td>...</td>\n",
       "      <td>...</td>\n",
       "      <td>...</td>\n",
       "      <td>...</td>\n",
       "      <td>...</td>\n",
       "      <td>...</td>\n",
       "      <td>...</td>\n",
       "    </tr>\n",
       "    <tr>\n",
       "      <th>216925</th>\n",
       "      <td>4999</td>\n",
       "      <td>5/11/2006</td>\n",
       "      <td>Double Jeopardy!</td>\n",
       "      <td>RIDDLE ME THIS</td>\n",
       "      <td>$2,000</td>\n",
       "      <td>This Puccini opera turns on the solution to 3 ...</td>\n",
       "      <td>Turandot</td>\n",
       "    </tr>\n",
       "    <tr>\n",
       "      <th>216926</th>\n",
       "      <td>4999</td>\n",
       "      <td>5/11/2006</td>\n",
       "      <td>Double Jeopardy!</td>\n",
       "      <td>\"T\" BIRDS</td>\n",
       "      <td>$2,000</td>\n",
       "      <td>In North America this term is properly applied...</td>\n",
       "      <td>a titmouse</td>\n",
       "    </tr>\n",
       "    <tr>\n",
       "      <th>216927</th>\n",
       "      <td>4999</td>\n",
       "      <td>5/11/2006</td>\n",
       "      <td>Double Jeopardy!</td>\n",
       "      <td>AUTHORS IN THEIR YOUTH</td>\n",
       "      <td>$2,000</td>\n",
       "      <td>In Penny Lane, where this \"Hellraiser\" grew up...</td>\n",
       "      <td>Clive Barker</td>\n",
       "    </tr>\n",
       "    <tr>\n",
       "      <th>216928</th>\n",
       "      <td>4999</td>\n",
       "      <td>5/11/2006</td>\n",
       "      <td>Double Jeopardy!</td>\n",
       "      <td>QUOTATIONS</td>\n",
       "      <td>$2,000</td>\n",
       "      <td>From Ft. Sill, Okla. he made the plea, Arizona...</td>\n",
       "      <td>Geronimo</td>\n",
       "    </tr>\n",
       "    <tr>\n",
       "      <th>216929</th>\n",
       "      <td>4999</td>\n",
       "      <td>5/11/2006</td>\n",
       "      <td>Final Jeopardy!</td>\n",
       "      <td>HISTORIC NAMES</td>\n",
       "      <td>None</td>\n",
       "      <td>A silent movie title includes the last name of...</td>\n",
       "      <td>Grigori Alexandrovich Potemkin</td>\n",
       "    </tr>\n",
       "  </tbody>\n",
       "</table>\n",
       "<p>216930 rows × 7 columns</p>\n",
       "</div>"
      ],
      "text/plain": [
       "        Show Number    Air Date             Round  \\\n",
       "0              4680  12/31/2004         Jeopardy!   \n",
       "1              4680  12/31/2004         Jeopardy!   \n",
       "2              4680  12/31/2004         Jeopardy!   \n",
       "3              4680  12/31/2004         Jeopardy!   \n",
       "4              4680  12/31/2004         Jeopardy!   \n",
       "...             ...         ...               ...   \n",
       "216925         4999   5/11/2006  Double Jeopardy!   \n",
       "216926         4999   5/11/2006  Double Jeopardy!   \n",
       "216927         4999   5/11/2006  Double Jeopardy!   \n",
       "216928         4999   5/11/2006  Double Jeopardy!   \n",
       "216929         4999   5/11/2006   Final Jeopardy!   \n",
       "\n",
       "                               Category    Value  \\\n",
       "0                               HISTORY    $200    \n",
       "1       ESPN's TOP 10 ALL-TIME ATHLETES    $200    \n",
       "2           EVERYBODY TALKS ABOUT IT...    $200    \n",
       "3                      THE COMPANY LINE    $200    \n",
       "4                   EPITAPHS & TRIBUTES    $200    \n",
       "...                                 ...      ...   \n",
       "216925                   RIDDLE ME THIS  $2,000    \n",
       "216926                        \"T\" BIRDS  $2,000    \n",
       "216927           AUTHORS IN THEIR YOUTH  $2,000    \n",
       "216928                       QUOTATIONS  $2,000    \n",
       "216929                   HISTORIC NAMES     None   \n",
       "\n",
       "                                                 Question  \\\n",
       "0       For the last 8 years of his life, Galileo was ...   \n",
       "1       No. 2: 1912 Olympian; football star at Carlisl...   \n",
       "2       The city of Yuma in this state has a record av...   \n",
       "3       In 1963, live on \"The Art Linkletter Show\", th...   \n",
       "4       Signer of the Dec. of Indep., framer of the Co...   \n",
       "...                                                   ...   \n",
       "216925  This Puccini opera turns on the solution to 3 ...   \n",
       "216926  In North America this term is properly applied...   \n",
       "216927  In Penny Lane, where this \"Hellraiser\" grew up...   \n",
       "216928  From Ft. Sill, Okla. he made the plea, Arizona...   \n",
       "216929  A silent movie title includes the last name of...   \n",
       "\n",
       "                                Answer  \n",
       "0                           Copernicus  \n",
       "1                           Jim Thorpe  \n",
       "2                              Arizona  \n",
       "3                           McDonald's  \n",
       "4                           John Adams  \n",
       "...                                ...  \n",
       "216925                        Turandot  \n",
       "216926                      a titmouse  \n",
       "216927                    Clive Barker  \n",
       "216928                        Geronimo  \n",
       "216929  Grigori Alexandrovich Potemkin  \n",
       "\n",
       "[216930 rows x 7 columns]"
      ]
     },
     "execution_count": 3,
     "metadata": {},
     "output_type": "execute_result"
    }
   ],
   "source": [
    "# Importing .csv and creating a datafame\n",
    "\n",
    "JEOPARDY_CSV_path = \"C:/Users/Nik/Documents/LaunchCoderGirlSTL/JEOPARDY_CSV.csv\"\n",
    "JEOPARDY_df = pd.read_csv(JEOPARDY_CSV_path)\n",
    "JEOPARDY_df"
   ]
  },
  {
   "cell_type": "markdown",
   "id": "f6a73666",
   "metadata": {},
   "source": [
    "#### 1. Import jeopardy.csv and create a dataframe from the data. Find out the following:\n",
    "\n",
    "a. How many rows are there in the dataframe? What does a row represent in this\n",
    "dataset? What is the “grain”?\n",
    "\n",
    "b. Clean the data. How do you need to “clean” it? What is “dirty” about this data?\n",
    "\n",
    "c. How many unique shows were there each year?\n",
    "\n",
    "d. How many times was each category used?\n",
    "\n",
    "e. Which month (over the years) has had the most shows?\n",
    "\n",
    "f. Are there any answers that appeared multiple times? Find the questions for the top three most common answers."
   ]
  },
  {
   "cell_type": "markdown",
   "id": "02967f61",
   "metadata": {},
   "source": [
    "# 1.a."
   ]
  },
  {
   "cell_type": "code",
   "execution_count": 4,
   "id": "45bd235a",
   "metadata": {},
   "outputs": [
    {
     "name": "stdout",
     "output_type": "stream",
     "text": [
      "216930\n"
     ]
    }
   ],
   "source": [
    "# Show number of rows:\n",
    "\n",
    "print(len(JEOPARDY_df))"
   ]
  },
  {
   "cell_type": "markdown",
   "id": "6a5fa685",
   "metadata": {},
   "source": [
    "There are 216930 rows in the data frame. The rows are the index; in this answer they represent correct answers from the game show Jeapordy! with their corresponding question, the dollar value of giving the correct answer, category of question, \n",
    "type of game round, air date, and episode number. With this data set, the 'grain', or lowest level of organized data, is either the Jeopardy! answers or possibly the questions since they are both unique."
   ]
  },
  {
   "cell_type": "markdown",
   "id": "9041f137",
   "metadata": {},
   "source": [
    "# 1.b."
   ]
  },
  {
   "cell_type": "markdown",
   "id": "abe6816b",
   "metadata": {},
   "source": [
    "Clean data would be data that has had missing values handled in some way, has\n",
    "removed exact duplicates, and has ensured uniform formatting. Use other data to model missing data."
   ]
  },
  {
   "cell_type": "code",
   "execution_count": 28,
   "id": "6e8f75df",
   "metadata": {
    "scrolled": false
   },
   "outputs": [
    {
     "data": {
      "text/plain": [
       "Show Number    0\n",
       " Air Date      0\n",
       " Round         0\n",
       " Category      0\n",
       " Value         0\n",
       " Question      0\n",
       " Answer        2\n",
       "dtype: int64"
      ]
     },
     "execution_count": 28,
     "metadata": {},
     "output_type": "execute_result"
    }
   ],
   "source": [
    "# Detecting and isolating missing data:\n",
    "JEOPARDY_df.isna().sum()\n"
   ]
  },
  {
   "cell_type": "code",
   "execution_count": 20,
   "id": "501ac12a",
   "metadata": {},
   "outputs": [
    {
     "data": {
      "text/plain": [
       "array([ 94817, 143297], dtype=int64)"
      ]
     },
     "execution_count": 20,
     "metadata": {},
     "output_type": "execute_result"
    }
   ],
   "source": [
    "# The above search indicates that there are two points of missing data somewhere in the 'Answer' column.\n",
    "# Let's look for it using:\n",
    "\n",
    "Missing_Data_Indeces = np.where(JEOPARDY_df.isna())[0]\n",
    "Missing_Data_Indeces"
   ]
  },
  {
   "cell_type": "code",
   "execution_count": 27,
   "id": "b9030e93",
   "metadata": {},
   "outputs": [
    {
     "data": {
      "text/html": [
       "<div>\n",
       "<style scoped>\n",
       "    .dataframe tbody tr th:only-of-type {\n",
       "        vertical-align: middle;\n",
       "    }\n",
       "\n",
       "    .dataframe tbody tr th {\n",
       "        vertical-align: top;\n",
       "    }\n",
       "\n",
       "    .dataframe thead th {\n",
       "        text-align: right;\n",
       "    }\n",
       "</style>\n",
       "<table border=\"1\" class=\"dataframe\">\n",
       "  <thead>\n",
       "    <tr style=\"text-align: right;\">\n",
       "      <th></th>\n",
       "      <th>Show Number</th>\n",
       "      <th>Air Date</th>\n",
       "      <th>Round</th>\n",
       "      <th>Category</th>\n",
       "      <th>Value</th>\n",
       "      <th>Question</th>\n",
       "      <th>Answer</th>\n",
       "    </tr>\n",
       "  </thead>\n",
       "  <tbody>\n",
       "    <tr>\n",
       "      <th>94817</th>\n",
       "      <td>4346</td>\n",
       "      <td>6/23/2003</td>\n",
       "      <td>Jeopardy!</td>\n",
       "      <td>GOING \"N\"SANE</td>\n",
       "      <td>$200</td>\n",
       "      <td>It often precedes \"and void\"</td>\n",
       "      <td>NaN</td>\n",
       "    </tr>\n",
       "    <tr>\n",
       "      <th>143297</th>\n",
       "      <td>6177</td>\n",
       "      <td>6/21/2011</td>\n",
       "      <td>Double Jeopardy!</td>\n",
       "      <td>NOTHING</td>\n",
       "      <td>$400</td>\n",
       "      <td>This word for \"nothing\" precedes \"and void\" to...</td>\n",
       "      <td>NaN</td>\n",
       "    </tr>\n",
       "  </tbody>\n",
       "</table>\n",
       "</div>"
      ],
      "text/plain": [
       "        Show Number   Air Date             Round       Category  Value  \\\n",
       "94817          4346  6/23/2003         Jeopardy!  GOING \"N\"SANE  $200    \n",
       "143297         6177  6/21/2011  Double Jeopardy!        NOTHING  $400    \n",
       "\n",
       "                                                 Question  Answer  \n",
       "94817                        It often precedes \"and void\"     NaN  \n",
       "143297  This word for \"nothing\" precedes \"and void\" to...     NaN  "
      ]
     },
     "execution_count": 27,
     "metadata": {},
     "output_type": "execute_result"
    }
   ],
   "source": [
    "# Slicing the rows with missing data to examine them and see if I can 'fix' \n",
    "# the missing data.\n",
    "\n",
    "Rows_Missing_Data = pd.DataFrame(JEOPARDY_df.iloc[[94817,143297]])\n",
    "Rows_Missing_Data"
   ]
  },
  {
   "cell_type": "code",
   "execution_count": 48,
   "id": "438a8ce3",
   "metadata": {},
   "outputs": [
    {
     "data": {
      "text/html": [
       "<div>\n",
       "<style scoped>\n",
       "    .dataframe tbody tr th:only-of-type {\n",
       "        vertical-align: middle;\n",
       "    }\n",
       "\n",
       "    .dataframe tbody tr th {\n",
       "        vertical-align: top;\n",
       "    }\n",
       "\n",
       "    .dataframe thead th {\n",
       "        text-align: right;\n",
       "    }\n",
       "</style>\n",
       "<table border=\"1\" class=\"dataframe\">\n",
       "  <thead>\n",
       "    <tr style=\"text-align: right;\">\n",
       "      <th></th>\n",
       "      <th>Show Number</th>\n",
       "      <th>Air Date</th>\n",
       "      <th>Round</th>\n",
       "      <th>Category</th>\n",
       "      <th>Value</th>\n",
       "      <th>Question</th>\n",
       "      <th>Answer</th>\n",
       "    </tr>\n",
       "  </thead>\n",
       "  <tbody>\n",
       "    <tr>\n",
       "      <th>94817</th>\n",
       "      <td>4346</td>\n",
       "      <td>6/23/2003</td>\n",
       "      <td>Jeopardy!</td>\n",
       "      <td>GOING \"N\"SANE</td>\n",
       "      <td>$200</td>\n",
       "      <td>It often precedes \"and void\"</td>\n",
       "      <td>Null</td>\n",
       "    </tr>\n",
       "    <tr>\n",
       "      <th>143297</th>\n",
       "      <td>6177</td>\n",
       "      <td>6/21/2011</td>\n",
       "      <td>Double Jeopardy!</td>\n",
       "      <td>NOTHING</td>\n",
       "      <td>$400</td>\n",
       "      <td>This word for \"nothing\" precedes \"and void\" to...</td>\n",
       "      <td>Null</td>\n",
       "    </tr>\n",
       "  </tbody>\n",
       "</table>\n",
       "</div>"
      ],
      "text/plain": [
       "        Show Number   Air Date             Round       Category  Value  \\\n",
       "94817          4346  6/23/2003         Jeopardy!  GOING \"N\"SANE  $200    \n",
       "143297         6177  6/21/2011  Double Jeopardy!        NOTHING  $400    \n",
       "\n",
       "                                                 Question  Answer  \n",
       "94817                        It often precedes \"and void\"    Null  \n",
       "143297  This word for \"nothing\" precedes \"and void\" to...    Null  "
      ]
     },
     "execution_count": 48,
     "metadata": {},
     "output_type": "execute_result"
    }
   ],
   "source": [
    "# By looking at the missing rows, I can reason that the missing answers are the\n",
    "# literal word \"Null\" and that word broke it data entry and read as a NaN by \n",
    "# mistake. Will fix by .fillna()\n",
    "JEOPARDY_df = JEOPARDY_df.fillna('Null')\n",
    "JEOPARDY_df.iloc[[94817,143297]]"
   ]
  },
  {
   "cell_type": "code",
   "execution_count": 62,
   "id": "92ba4d00",
   "metadata": {},
   "outputs": [
    {
     "name": "stdout",
     "output_type": "stream",
     "text": [
      "216930 216930\n"
     ]
    }
   ],
   "source": [
    "# Another way to clean up data is to *carefully* check/drop duplicate data.\n",
    "# With this dataframe, it is important to look for duplicate ROWS since there\n",
    "# are many instances of legitimately duplicated data like Show Numbers or Values.\n",
    "# I will check for duplicate rows:\n",
    "\n",
    "#JEOPARDY_df.groupby(' Air Date')['Show Number'].agg(pd.Series.drop_duplicates)\n",
    "unique_JEOPARDY_df = JEOPARDY_df.drop_duplicates(subset=['Show Number', ' Air Date', ' Round', ' Category', ' Value', ' Question', ' Answer'])\n",
    "print(len(unique_JEOPARDY_df),len(JEOPARDY_df))\n",
    "\n",
    "# There are no exact duplicate rows, so I think this data is now as clean as I can readily make it."
   ]
  },
  {
   "cell_type": "markdown",
   "id": "414a3df7",
   "metadata": {},
   "source": [
    "# 1.c."
   ]
  },
  {
   "cell_type": "code",
   "execution_count": 64,
   "id": "979d29d6",
   "metadata": {},
   "outputs": [
    {
     "data": {
      "text/html": [
       "<div>\n",
       "<style scoped>\n",
       "    .dataframe tbody tr th:only-of-type {\n",
       "        vertical-align: middle;\n",
       "    }\n",
       "\n",
       "    .dataframe tbody tr th {\n",
       "        vertical-align: top;\n",
       "    }\n",
       "\n",
       "    .dataframe thead th {\n",
       "        text-align: right;\n",
       "    }\n",
       "</style>\n",
       "<table border=\"1\" class=\"dataframe\">\n",
       "  <thead>\n",
       "    <tr style=\"text-align: right;\">\n",
       "      <th>Air Date</th>\n",
       "      <th>1984</th>\n",
       "      <th>1985</th>\n",
       "      <th>1986</th>\n",
       "      <th>1987</th>\n",
       "      <th>1988</th>\n",
       "      <th>1989</th>\n",
       "      <th>1990</th>\n",
       "      <th>1991</th>\n",
       "      <th>1992</th>\n",
       "      <th>1993</th>\n",
       "      <th>...</th>\n",
       "      <th>2003</th>\n",
       "      <th>2004</th>\n",
       "      <th>2005</th>\n",
       "      <th>2006</th>\n",
       "      <th>2007</th>\n",
       "      <th>2008</th>\n",
       "      <th>2009</th>\n",
       "      <th>2010</th>\n",
       "      <th>2011</th>\n",
       "      <th>2012</th>\n",
       "    </tr>\n",
       "  </thead>\n",
       "  <tbody>\n",
       "    <tr>\n",
       "      <th>Number of Shows</th>\n",
       "      <td>23</td>\n",
       "      <td>16</td>\n",
       "      <td>25</td>\n",
       "      <td>22</td>\n",
       "      <td>22</td>\n",
       "      <td>36</td>\n",
       "      <td>73</td>\n",
       "      <td>24</td>\n",
       "      <td>32</td>\n",
       "      <td>35</td>\n",
       "      <td>...</td>\n",
       "      <td>158</td>\n",
       "      <td>220</td>\n",
       "      <td>225</td>\n",
       "      <td>230</td>\n",
       "      <td>231</td>\n",
       "      <td>232</td>\n",
       "      <td>226</td>\n",
       "      <td>231</td>\n",
       "      <td>224</td>\n",
       "      <td>19</td>\n",
       "    </tr>\n",
       "  </tbody>\n",
       "</table>\n",
       "<p>1 rows × 29 columns</p>\n",
       "</div>"
      ],
      "text/plain": [
       " Air Date        1984  1985  1986  1987  1988  1989  1990  1991  1992  1993  \\\n",
       "Number of Shows    23    16    25    22    22    36    73    24    32    35   \n",
       "\n",
       " Air Date        ...  2003  2004  2005  2006  2007  2008  2009  2010  2011  \\\n",
       "Number of Shows  ...   158   220   225   230   231   232   226   231   224   \n",
       "\n",
       " Air Date        2012  \n",
       "Number of Shows    19  \n",
       "\n",
       "[1 rows x 29 columns]"
      ]
     },
     "execution_count": 64,
     "metadata": {},
     "output_type": "execute_result"
    }
   ],
   "source": [
    "JEOPARDY_df.groupby(' Air Date')['Show Number'].agg(pd.Series.drop_duplicates)\n",
    "#JEOPARDY_df.drop_duplicates(subset=[' Air Date', 'Show Number'])\n",
    "#print(len(jeopardy_df))\n",
    "JEOPARDY_df[' Air Date'] = pd.to_datetime(JEOPARDY_df[' Air Date'])\n",
    "#JEOPARDY_df['Year'] = JEOPARDY_df[' Air Date'].dt.year\n",
    "Unique_Shows_per_Year = pd.DataFrame(JEOPARDY_df.groupby(JEOPARDY_df[' Air Date'].dt.year)['Show Number'].nunique())\n",
    "Unique_Shows_per_Year.columns = ['Number of Shows']\n",
    "Unique_Shows_per_Year.T"
   ]
  },
  {
   "cell_type": "markdown",
   "id": "004f8395",
   "metadata": {},
   "source": [
    "# 1.d."
   ]
  },
  {
   "cell_type": "code",
   "execution_count": 212,
   "id": "da366404",
   "metadata": {},
   "outputs": [
    {
     "data": {
      "text/html": [
       "<div>\n",
       "<style scoped>\n",
       "    .dataframe tbody tr th:only-of-type {\n",
       "        vertical-align: middle;\n",
       "    }\n",
       "\n",
       "    .dataframe tbody tr th {\n",
       "        vertical-align: top;\n",
       "    }\n",
       "\n",
       "    .dataframe thead th {\n",
       "        text-align: right;\n",
       "    }\n",
       "</style>\n",
       "<table border=\"1\" class=\"dataframe\">\n",
       "  <thead>\n",
       "    <tr style=\"text-align: right;\">\n",
       "      <th></th>\n",
       "      <th>Times Cat. Used</th>\n",
       "    </tr>\n",
       "  </thead>\n",
       "  <tbody>\n",
       "    <tr>\n",
       "      <th>BEFORE &amp; AFTER</th>\n",
       "      <td>547</td>\n",
       "    </tr>\n",
       "    <tr>\n",
       "      <th>SCIENCE</th>\n",
       "      <td>519</td>\n",
       "    </tr>\n",
       "    <tr>\n",
       "      <th>LITERATURE</th>\n",
       "      <td>496</td>\n",
       "    </tr>\n",
       "    <tr>\n",
       "      <th>AMERICAN HISTORY</th>\n",
       "      <td>418</td>\n",
       "    </tr>\n",
       "    <tr>\n",
       "      <th>POTPOURRI</th>\n",
       "      <td>401</td>\n",
       "    </tr>\n",
       "    <tr>\n",
       "      <th>...</th>\n",
       "      <td>...</td>\n",
       "    </tr>\n",
       "    <tr>\n",
       "      <th>POTPOURRI...NO FOOLIN'</th>\n",
       "      <td>1</td>\n",
       "    </tr>\n",
       "    <tr>\n",
       "      <th>BRITISH PAINTERS</th>\n",
       "      <td>1</td>\n",
       "    </tr>\n",
       "    <tr>\n",
       "      <th>MIDWAY ISLAND</th>\n",
       "      <td>1</td>\n",
       "    </tr>\n",
       "    <tr>\n",
       "      <th>THE OXFORD ENGLISH DICTIONARY</th>\n",
       "      <td>1</td>\n",
       "    </tr>\n",
       "    <tr>\n",
       "      <th>EXPLORING</th>\n",
       "      <td>1</td>\n",
       "    </tr>\n",
       "  </tbody>\n",
       "</table>\n",
       "<p>27983 rows × 1 columns</p>\n",
       "</div>"
      ],
      "text/plain": [
       "                               Times Cat. Used\n",
       "BEFORE & AFTER                             547\n",
       "SCIENCE                                    519\n",
       "LITERATURE                                 496\n",
       "AMERICAN HISTORY                           418\n",
       "POTPOURRI                                  401\n",
       "...                                        ...\n",
       "POTPOURRI...NO FOOLIN'                       1\n",
       "BRITISH PAINTERS                             1\n",
       "MIDWAY ISLAND                                1\n",
       "THE OXFORD ENGLISH DICTIONARY                1\n",
       "EXPLORING                                    1\n",
       "\n",
       "[27983 rows x 1 columns]"
      ]
     },
     "execution_count": 212,
     "metadata": {},
     "output_type": "execute_result"
    }
   ],
   "source": [
    "# Here I sorted, then counted, the Category column:\n",
    "Categories_df = pd.DataFrame(JEOPARDY_df[' Category'].value_counts())\n",
    "Categories_df.columns = ['Times Cat. Used']\n",
    "Categories_df"
   ]
  },
  {
   "cell_type": "markdown",
   "id": "d4b32267",
   "metadata": {},
   "source": [
    "# 1.e"
   ]
  },
  {
   "cell_type": "code",
   "execution_count": 85,
   "id": "bd311384",
   "metadata": {},
   "outputs": [
    {
     "data": {
      "text/html": [
       "<div>\n",
       "<style scoped>\n",
       "    .dataframe tbody tr th:only-of-type {\n",
       "        vertical-align: middle;\n",
       "    }\n",
       "\n",
       "    .dataframe tbody tr th {\n",
       "        vertical-align: top;\n",
       "    }\n",
       "\n",
       "    .dataframe thead th {\n",
       "        text-align: right;\n",
       "    }\n",
       "</style>\n",
       "<table border=\"1\" class=\"dataframe\">\n",
       "  <thead>\n",
       "    <tr style=\"text-align: right;\">\n",
       "      <th></th>\n",
       "      <th>Number of Shows</th>\n",
       "    </tr>\n",
       "    <tr>\n",
       "      <th>Air Date</th>\n",
       "      <th></th>\n",
       "    </tr>\n",
       "  </thead>\n",
       "  <tbody>\n",
       "    <tr>\n",
       "      <th>11</th>\n",
       "      <td>434</td>\n",
       "    </tr>\n",
       "  </tbody>\n",
       "</table>\n",
       "</div>"
      ],
      "text/plain": [
       "           Number of Shows\n",
       " Air Date                 \n",
       "11                     434"
      ]
     },
     "execution_count": 85,
     "metadata": {},
     "output_type": "execute_result"
    }
   ],
   "source": [
    "# I interpreted the question to be asking which month had the most shows when summing all the shows for that month in every year.\n",
    "# Here I am splitting the DataFrame dates into components, and then isolating the month, and counting number of shows per each month.\n",
    "JEOPARDY_df.groupby(' Air Date')['Show Number'].agg(pd.Series.drop_duplicates)\n",
    "JEOPARDY_df[' Air Date'] = pd.to_datetime(JEOPARDY_df[' Air Date'])\n",
    "Unique_Shows_per_Month = pd.DataFrame(JEOPARDY_df.groupby(JEOPARDY_df[' Air Date'].dt.month)['Show Number'].nunique())\n",
    "Unique_Shows_per_Month.columns = ['Number of Shows']\n",
    "#Unique_Shows_per_Month\n",
    "\n",
    "#Now I will sort descending and show first row:\n",
    "\n",
    "Unique_Shows_per_Month.sort_values('Number of Shows', ascending=False).head(1)"
   ]
  },
  {
   "cell_type": "markdown",
   "id": "b57080bf",
   "metadata": {},
   "source": [
    "# 1.f."
   ]
  },
  {
   "cell_type": "code",
   "execution_count": 95,
   "id": "c596e1b6",
   "metadata": {},
   "outputs": [
    {
     "data": {
      "text/html": [
       "<div>\n",
       "<style scoped>\n",
       "    .dataframe tbody tr th:only-of-type {\n",
       "        vertical-align: middle;\n",
       "    }\n",
       "\n",
       "    .dataframe tbody tr th {\n",
       "        vertical-align: top;\n",
       "    }\n",
       "\n",
       "    .dataframe thead th {\n",
       "        text-align: right;\n",
       "    }\n",
       "</style>\n",
       "<table border=\"1\" class=\"dataframe\">\n",
       "  <thead>\n",
       "    <tr style=\"text-align: right;\">\n",
       "      <th></th>\n",
       "      <th>Answer</th>\n",
       "    </tr>\n",
       "  </thead>\n",
       "  <tbody>\n",
       "    <tr>\n",
       "      <th>China</th>\n",
       "      <td>216</td>\n",
       "    </tr>\n",
       "    <tr>\n",
       "      <th>Australia</th>\n",
       "      <td>215</td>\n",
       "    </tr>\n",
       "    <tr>\n",
       "      <th>Japan</th>\n",
       "      <td>196</td>\n",
       "    </tr>\n",
       "  </tbody>\n",
       "</table>\n",
       "</div>"
      ],
      "text/plain": [
       "            Answer\n",
       "China          216\n",
       "Australia      215\n",
       "Japan          196"
      ]
     },
     "execution_count": 95,
     "metadata": {},
     "output_type": "execute_result"
    }
   ],
   "source": [
    "# I find the 3 most common answers with a value count and head(3):\n",
    "\n",
    "Most_Common_Answers = pd.DataFrame(JEOPARDY_df[' Answer'].value_counts())\n",
    "Most_Common_Answers.head(3)"
   ]
  },
  {
   "cell_type": "code",
   "execution_count": 187,
   "id": "140a8606",
   "metadata": {},
   "outputs": [
    {
     "data": {
      "text/html": [
       "<div>\n",
       "<style scoped>\n",
       "    .dataframe tbody tr th:only-of-type {\n",
       "        vertical-align: middle;\n",
       "    }\n",
       "\n",
       "    .dataframe tbody tr th {\n",
       "        vertical-align: top;\n",
       "    }\n",
       "\n",
       "    .dataframe thead th {\n",
       "        text-align: right;\n",
       "    }\n",
       "</style>\n",
       "<table border=\"1\" class=\"dataframe\">\n",
       "  <thead>\n",
       "    <tr style=\"text-align: right;\">\n",
       "      <th></th>\n",
       "      <th>Answer</th>\n",
       "      <th>Question</th>\n",
       "    </tr>\n",
       "  </thead>\n",
       "  <tbody>\n",
       "    <tr>\n",
       "      <th>598</th>\n",
       "      <td>China</td>\n",
       "      <td>In 1958 this country launched its second 5-yea...</td>\n",
       "    </tr>\n",
       "    <tr>\n",
       "      <th>1507</th>\n",
       "      <td>China</td>\n",
       "      <td>In 1999 this country began 3 \"golden weeks\" of...</td>\n",
       "    </tr>\n",
       "    <tr>\n",
       "      <th>3050</th>\n",
       "      <td>China</td>\n",
       "      <td>P.F. Chang's is an upscale bistro specializing...</td>\n",
       "    </tr>\n",
       "    <tr>\n",
       "      <th>3476</th>\n",
       "      <td>China</td>\n",
       "      <td>This country's National People's Congress has ...</td>\n",
       "    </tr>\n",
       "    <tr>\n",
       "      <th>5990</th>\n",
       "      <td>China</td>\n",
       "      <td>Of the 6 nations India borders, this one is th...</td>\n",
       "    </tr>\n",
       "    <tr>\n",
       "      <th>...</th>\n",
       "      <td>...</td>\n",
       "      <td>...</td>\n",
       "    </tr>\n",
       "    <tr>\n",
       "      <th>211129</th>\n",
       "      <td>Japan</td>\n",
       "      <td>On Feb. 8, 1904 this country attacked Port Art...</td>\n",
       "    </tr>\n",
       "    <tr>\n",
       "      <th>214711</th>\n",
       "      <td>Japan</td>\n",
       "      <td>This nation's maritime self-defense force, suc...</td>\n",
       "    </tr>\n",
       "    <tr>\n",
       "      <th>215513</th>\n",
       "      <td>Japan</td>\n",
       "      <td>On July 8, 1853 Matthew Perry presented a lett...</td>\n",
       "    </tr>\n",
       "    <tr>\n",
       "      <th>215568</th>\n",
       "      <td>Japan</td>\n",
       "      <td>Kirin</td>\n",
       "    </tr>\n",
       "    <tr>\n",
       "      <th>216660</th>\n",
       "      <td>Japan</td>\n",
       "      <td>In Asia: Prime Minister Junichiro Koizumi</td>\n",
       "    </tr>\n",
       "  </tbody>\n",
       "</table>\n",
       "<p>627 rows × 2 columns</p>\n",
       "</div>"
      ],
      "text/plain": [
       "        Answer                                           Question\n",
       "598      China  In 1958 this country launched its second 5-yea...\n",
       "1507     China  In 1999 this country began 3 \"golden weeks\" of...\n",
       "3050     China  P.F. Chang's is an upscale bistro specializing...\n",
       "3476     China  This country's National People's Congress has ...\n",
       "5990     China  Of the 6 nations India borders, this one is th...\n",
       "...        ...                                                ...\n",
       "211129   Japan  On Feb. 8, 1904 this country attacked Port Art...\n",
       "214711   Japan  This nation's maritime self-defense force, suc...\n",
       "215513   Japan  On July 8, 1853 Matthew Perry presented a lett...\n",
       "215568   Japan                                              Kirin\n",
       "216660   Japan          In Asia: Prime Minister Junichiro Koizumi\n",
       "\n",
       "[627 rows x 2 columns]"
      ]
     },
     "execution_count": 187,
     "metadata": {},
     "output_type": "execute_result"
    }
   ],
   "source": [
    "#Now I will take my most popular answers and create a new dataframe:\n",
    "\n",
    "China = pd.DataFrame(JEOPARDY_df[JEOPARDY_df[\" Answer\"]=='China'][[' Answer',' Question']])\n",
    "Australia = pd.DataFrame(JEOPARDY_df[JEOPARDY_df[\" Answer\"]=='Australia'][[' Answer',' Question']])\n",
    "Japan = pd.DataFrame(JEOPARDY_df[JEOPARDY_df[\" Answer\"]=='Japan'][[' Answer',' Question']])\n",
    "\n",
    "\n",
    "All_Answers = [China, Australia, Japan]\n",
    "\n",
    "Questions = pd.concat(All_Answers)\n",
    "Questions"
   ]
  },
  {
   "cell_type": "markdown",
   "id": "8b71474e",
   "metadata": {},
   "source": [
    "#### 2. Create a visualization that shows the top 5 categories (those referenced the most often). \n",
    "\n",
    "Be sure to label appropriately."
   ]
  },
  {
   "cell_type": "code",
   "execution_count": 213,
   "id": "5adef2ca",
   "metadata": {},
   "outputs": [
    {
     "data": {
      "text/html": [
       "<div>\n",
       "<style scoped>\n",
       "    .dataframe tbody tr th:only-of-type {\n",
       "        vertical-align: middle;\n",
       "    }\n",
       "\n",
       "    .dataframe tbody tr th {\n",
       "        vertical-align: top;\n",
       "    }\n",
       "\n",
       "    .dataframe thead th {\n",
       "        text-align: right;\n",
       "    }\n",
       "</style>\n",
       "<table border=\"1\" class=\"dataframe\">\n",
       "  <thead>\n",
       "    <tr style=\"text-align: right;\">\n",
       "      <th></th>\n",
       "      <th>Times Cat. Used</th>\n",
       "    </tr>\n",
       "  </thead>\n",
       "  <tbody>\n",
       "    <tr>\n",
       "      <th>BEFORE &amp; AFTER</th>\n",
       "      <td>547</td>\n",
       "    </tr>\n",
       "    <tr>\n",
       "      <th>SCIENCE</th>\n",
       "      <td>519</td>\n",
       "    </tr>\n",
       "    <tr>\n",
       "      <th>LITERATURE</th>\n",
       "      <td>496</td>\n",
       "    </tr>\n",
       "    <tr>\n",
       "      <th>AMERICAN HISTORY</th>\n",
       "      <td>418</td>\n",
       "    </tr>\n",
       "    <tr>\n",
       "      <th>POTPOURRI</th>\n",
       "      <td>401</td>\n",
       "    </tr>\n",
       "  </tbody>\n",
       "</table>\n",
       "</div>"
      ],
      "text/plain": [
       "                  Times Cat. Used\n",
       "BEFORE & AFTER                547\n",
       "SCIENCE                       519\n",
       "LITERATURE                    496\n",
       "AMERICAN HISTORY              418\n",
       "POTPOURRI                     401"
      ]
     },
     "execution_count": 213,
     "metadata": {},
     "output_type": "execute_result"
    }
   ],
   "source": [
    "Most_Popular_Categories = Categories_df.head()\n",
    "Most_Popular_Categories"
   ]
  },
  {
   "cell_type": "code",
   "execution_count": 221,
   "id": "a15ad887",
   "metadata": {},
   "outputs": [
    {
     "data": {
      "image/png": "[encoded data removed]",
      "text/plain": [
       "<Figure size 432x288 with 1 Axes>"
      ]
     },
     "metadata": {
      "needs_background": "light"
     },
     "output_type": "display_data"
    }
   ],
   "source": [
    "Most_Popular_Categories.plot(kind='bar')\n",
    "plt.xticks(rotation = 45)\n",
    "plt.title('Most Popular Categories')\n",
    "plt.xlabel('Categories')\n",
    "plt.ylabel('Times Used')\n",
    "plt.show()"
   ]
  },
  {
   "cell_type": "code",
   "execution_count": null,
   "id": "798feeaf",
   "metadata": {},
   "outputs": [],
   "source": []
  }
 ],
 "metadata": {
  "kernelspec": {
   "display_name": "Python 3 (ipykernel)",
   "language": "python",
   "name": "python3"
  },
  "language_info": {
   "codemirror_mode": {
    "name": "ipython",
    "version": 3
   },
   "file_extension": ".py",
   "mimetype": "text/x-python",
   "name": "python",
   "nbconvert_exporter": "python",
   "pygments_lexer": "ipython3",
   "version": "3.9.7"
  }
 },
 "nbformat": 4,
 "nbformat_minor": 5
}
